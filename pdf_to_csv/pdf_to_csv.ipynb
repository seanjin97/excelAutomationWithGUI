{
 "cells": [
  {
   "cell_type": "code",
   "execution_count": 23,
   "metadata": {},
   "outputs": [],
   "source": [
    "import pandas as pd\n",
    "from tabula import read_pdf"
   ]
  },
  {
   "cell_type": "code",
   "execution_count": 246,
   "metadata": {},
   "outputs": [
    {
     "name": "stderr",
     "output_type": "stream",
     "text": [
      "Got stderr: May 15, 2020 11:47:29 PM org.apache.pdfbox.pdmodel.font.PDCIDFontType2 <init>\n",
      "INFO: OpenType Layout tables used in font Arial,Bold are not implemented in PDFBox and will be ignored\n",
      "May 15, 2020 11:47:29 PM org.apache.pdfbox.pdmodel.font.PDCIDFontType2 <init>\n",
      "INFO: OpenType Layout tables used in font Arial,Bold are not implemented in PDFBox and will be ignored\n",
      "May 15, 2020 11:47:30 PM org.apache.pdfbox.pdmodel.font.PDCIDFontType2 <init>\n",
      "INFO: OpenType Layout tables used in font Arial,Bold are not implemented in PDFBox and will be ignored\n",
      "\n"
     ]
    }
   ],
   "source": [
    "pdf = read_pdf(\"bank codes.pdf\", pages=\"3-13\", encoding=\"utf-8\", stream=True)"
   ]
  },
  {
   "cell_type": "code",
   "execution_count": 325,
   "metadata": {},
   "outputs": [],
   "source": [
    "uob = pd.DataFrame(columns=[\"branch name\", \"acc no\", \"branch code\"])\n",
    "for i in range(11):\n",
    "    temp = pdf[i].loc[3:]\n",
    "    temp.columns= ([\"branch name\", \"acc no\", \"branch code\"])\n",
    "    count += temp.shape[0]\n",
    "    uob = uob.append(temp)\n",
    "uob = uob.reset_index()\n",
    "uob = uob.drop([\"index\"], axis=1)\n",
    "\n",
    "uob.at[248, \"branch name\"] = \"UOB Wealth Banking Scotts Square\"\n",
    "uob.at[248, \"acc no\"] = 633\n",
    "uob.at[248, \"branch code\"] = \"7375 632\"\n",
    "\n",
    "\n",
    "uob.at[288, \"branch name\"] = \"UOB Wealth Banking Scotts Square\"\n",
    "uob.at[288, \"acc no\"] = 722\n",
    "uob.at[288, \"branch code\"] = \"7375 632\"\n",
    "\n",
    "uob.at[85, \"acc no\"] = 301\n",
    "uob.at[85, \"branch code\"] = \"7375 001\"\n",
    "\n",
    "uob.at[88, \"acc no\"] = 301\n",
    "uob.at[88, \"branch code\"] = \"7375 046\"\n",
    "\n",
    "\n",
    "uob.dropna(inplace=True)\n",
    "\n",
    "temp = uob[\"branch code\"].str.split(\" \", expand = True)\n",
    "uob[\"branch code\"] = temp[1]\n",
    "uob[\"bank code\"] = temp[0]\n",
    "\n",
    "uob = uob.astype(str)\n",
    "uob[[\"acc no\", \"branch code\", \"bank code\"]] = uob[[\"acc no\", \"branch code\", \"bank code\"]].astype(int)"
   ]
  },
  {
   "cell_type": "code",
   "execution_count": 326,
   "metadata": {},
   "outputs": [],
   "source": [
    "uob.to_csv(\"uob.csv\")"
   ]
  }
 ],
 "metadata": {
  "kernelspec": {
   "display_name": "Python 3",
   "language": "python",
   "name": "python3"
  },
  "language_info": {
   "codemirror_mode": {
    "name": "ipython",
    "version": 3
   },
   "file_extension": ".py",
   "mimetype": "text/x-python",
   "name": "python",
   "nbconvert_exporter": "python",
   "pygments_lexer": "ipython3",
   "version": "3.7.6"
  }
 },
 "nbformat": 4,
 "nbformat_minor": 4
}
